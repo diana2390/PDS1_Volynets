{
 "cells": [
  {
   "cell_type": "markdown",
   "id": "86ef5acd",
   "metadata": {},
   "source": [
    "## Task 1"
   ]
  },
  {
   "cell_type": "markdown",
   "id": "702c957f",
   "metadata": {},
   "source": [
    "| year | rank | company | revenue | profit |\n",
    "| :--- | :---: | :---: | :---: | ---: |\n",
    "| 1955 | 229 | Norton | 135.0 | N.A. |\n",
    "| 1955 | 291 | Schlitz Brewing | 100.0 | N.A. |\n",
    "| 1955 | 295 | Pacific Vegetable Oil | 97.9 | N.A. |\n",
    "| 1955 | 297 | Liebmann Breweries | 96.0 | N.A. |\n",
    "| 1955 | 353 | Minneapolis Moline | 77.4 | N.A. |"
   ]
  },
  {
   "cell_type": "markdown",
   "id": "879820bd",
   "metadata": {},
   "source": [
    "## Task 2"
   ]
  },
  {
   "cell_type": "code",
   "execution_count": null,
   "id": "86c41d63",
   "metadata": {},
   "outputs": [],
   "source": [
    "%%timeit -n 10 \n",
    "import random\n",
    "from random_words import RandomWords\n",
    "\n",
    "w = RandomWords()\n",
    "\n",
    "int_list = []\n",
    "float_list = []\n",
    "str_list = []\n",
    "\n",
    "for i in range(0, 5000):\n",
    "    int_list.append(random.randint(1, 1000))\n",
    "    float_list.append(random.uniform(0.1, 100))\n",
    "    str_list.append(w.random_word())\n",
    "\n",
    "def bubble_sort(list, iter):\n",
    "    for i in range(iter):\n",
    "        length = len(list)\n",
    "        for y in range(length):\n",
    "            for i in range(0, length - i - 1):\n",
    "                if list[i] > list[i + 1]:\n",
    "                    list[i], list[i + 1] = list[i + 1], list[i]"
   ]
  }
 ],
 "metadata": {
  "kernelspec": {
   "display_name": "Python 3 (ipykernel)",
   "language": "python",
   "name": "python3"
  },
  "language_info": {
   "codemirror_mode": {
    "name": "ipython",
    "version": 3
   },
   "file_extension": ".py",
   "mimetype": "text/x-python",
   "name": "python",
   "nbconvert_exporter": "python",
   "pygments_lexer": "ipython3",
   "version": "3.10.8"
  }
 },
 "nbformat": 4,
 "nbformat_minor": 5
}
